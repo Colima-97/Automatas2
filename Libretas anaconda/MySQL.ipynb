{
 "cells": [
  {
   "cell_type": "markdown",
   "metadata": {},
   "source": [
    "<H2>Conectar Python con DB MySQL<H2>"
   ]
  },
  {
   "cell_type": "code",
   "execution_count": 2,
   "metadata": {},
   "outputs": [
    {
     "name": "stdout",
     "output_type": "stream",
     "text": [
      "Collecting PyMySQL\n",
      "  Using cached https://files.pythonhosted.org/packages/ed/39/15045ae46f2a123019aa968dfcba0396c161c20f855f11dea6796bcaae95/PyMySQL-0.9.3-py2.py3-none-any.whl\n",
      "Installing collected packages: PyMySQL\n",
      "Successfully installed PyMySQL-0.9.3\n"
     ]
    }
   ],
   "source": [
    "!pip install PyMySQL"
   ]
  },
  {
   "cell_type": "code",
   "execution_count": 3,
   "metadata": {},
   "outputs": [
    {
     "name": "stdout",
     "output_type": "stream",
     "text": [
      "Conexión exitosa!\n",
      "<pymysql.connections.Connection object at 0x000001A786617DA0>\n",
      "Dato insertado exitosamente!\n"
     ]
    }
   ],
   "source": [
    "#Primer paso es abrir la conexión a la base de datos\n",
    "#python3 -m pip install PyMySQL\n",
    "import pymysql\n",
    "\n",
    "try:\n",
    "    #Cadena de conexión\n",
    "    db = pymysql.connect(\"localhost\",\"root\",\"\",\"mundo_peludo\")\n",
    "    print('Conexión exitosa!')      \n",
    "except:\n",
    "    print('La conexión falló!')\n",
    "finally:\n",
    "    print(db)\n",
    "\n",
    "try:    \n",
    "    #Crear un objeto cursor\n",
    "    cursor = db.cursor()\n",
    "\n",
    "    #Ahora podemos usar instrucciones SQL\n",
    "    #definir registro\n",
    "    cadsqlinsert = \"insert into keyword values(6,'end');\"\n",
    "    cursor.execute(cadsqlinsert)\n",
    "    \n",
    "    #Con commit hace operación atómica\n",
    "    db.commit()\n",
    "    \n",
    "    print('Dato insertado exitosamente!')\n",
    "except:\n",
    "    print('No se pudo insertar los datos')\n",
    "    db.rollback()\n",
    "    "
   ]
  },
  {
   "cell_type": "code",
   "execution_count": null,
   "metadata": {},
   "outputs": [],
   "source": [
    "#Rutina para consultar registros en a tabla keyword\n",
    "\n",
    "import pymysql\n",
    "\n",
    "#Hacer conexión\n",
    "try:\n",
    "    #Cadena de conexión\n",
    "    db = pymysql.connect(\"localhost\",\"root\",\"\",\"mundo_peludo\")\n",
    "    print('Conexión exitosa!')      \n",
    "except:\n",
    "    print('La conexión falló!')\n",
    "finally:\n",
    "    print('Objeto de db es: ', db)\n",
    "    \n",
    "\n",
    "    \n",
    "#Buscar\n",
    "try:\n",
    "    #Crear un objeto cursor\n",
    "    cursor = db.cursor()\n",
    "    \n",
    "    cadsqlbuscar = \"select * from keyword where clave = 4;\"\n",
    "    cursor.execute(cadsqlbuscar)\n",
    "    result = cursor.fetchall()\n",
    "    \n",
    "    #Imprimir bonito\n",
    "    for row in result:\n",
    "        clave = row[0]\n",
    "        nombre = row[1]\n",
    "        print(\">>Clave = {0} \\n>>Nombre = {1}\".format(clave,nombre))    \n",
    "except:\n",
    "    print('No se encontró la clave!')"
   ]
  },
  {
   "cell_type": "code",
   "execution_count": null,
   "metadata": {},
   "outputs": [],
   "source": [
    "#Borrar\n",
    "\n",
    "import pymysql\n",
    "\n",
    "#Hacer conexión\n",
    "try:\n",
    "    #Cadena de conexión\n",
    "    db = pymysql.connect(\"localhost\",\"root\",\"\",\"mundo_peludo\")\n",
    "    print('Conexión exitosa!')      \n",
    "except:\n",
    "    print('La conexión falló!')\n",
    "finally:\n",
    "    print('Objeto de db es: ', db)\n",
    "    \n",
    "try:\n",
    "    #Crear un objeto cursor\n",
    "    cursor = db.cursor()\n",
    "    \n",
    "    cadsqlborrar = \"delete from keyword where clave = 3;\"\n",
    "    cursor.execute(cadsqlborrar)\n",
    "    db.commit()\n",
    "    print('Elemento borrado!')\n",
    "    \n",
    "    #Buscar\n",
    "    cadsqlbuscarall = \"Select * From keyword;\"\n",
    "    cursor.execute(cadsqlbuscarall)\n",
    "    result = cursor.fetchall()\n",
    "    \n",
    "    #Imprimir bonito\n",
    "    for row in result:\n",
    "        clave = row[0]\n",
    "        nombre = row[1]\n",
    "        print(\">>Clave = {0} \\n>>Nombre = {1}\\n\".format(clave,nombre))        \n",
    "except:\n",
    "    print('No se pudo borrar')\n",
    "    "
   ]
  },
  {
   "cell_type": "code",
   "execution_count": null,
   "metadata": {},
   "outputs": [],
   "source": [
    "#Actualizar un elemento\n",
    "import pymysql\n",
    "\n",
    "#Hacer conexión\n",
    "try:\n",
    "    #Cadena de conexión\n",
    "    db = pymysql.connect(\"localhost\",\"root\",\"\",\"mundo_peludo\")\n",
    "    print('Conexión exitosa!')      \n",
    "except:\n",
    "    print('La conexión falló!')\n",
    "finally:\n",
    "    print('Objeto de db es: ', db)\n",
    "    \n",
    "try:\n",
    "    #Crear un objeto cursor\n",
    "    cursor = db.cursor()\n",
    "    \n",
    "    #Cambiar\n",
    "    cadsqlcambio = \"Update keyword set `nombre` = 'while' Where `clave` = 2;\"\n",
    "    cursor.execute(cadsqlcambio)\n",
    "    db.commit()\n",
    "    print('Registro cambiado exitosamente!')\n",
    "except:\n",
    "    print('No se pudo cambiar el registro')\n"
   ]
  },
  {
   "cell_type": "code",
   "execution_count": null,
   "metadata": {},
   "outputs": [],
   "source": [
    "#Reporte, imprimir todos los datos de la tabla\n",
    "\n",
    "import pymysql\n",
    "\n",
    "#Hacer conexión\n",
    "try:\n",
    "    #Cadena de conexión\n",
    "    db = pymysql.connect(\"localhost\",\"root\",\"\",\"mundo_peludo\")\n",
    "    print('Conexión exitosa!')      \n",
    "except:\n",
    "    print('La conexión falló!')\n",
    "finally:\n",
    "    print('Objeto de db es: ', db)\n",
    "    \n",
    "try:\n",
    "    #Crear un objeto cursor\n",
    "    cursor = db.cursor()\n",
    "    \n",
    "    #Buscar\n",
    "    cadsqlbuscarall = \"Select * From keyword;\"\n",
    "    cursor.execute(cadsqlbuscarall)\n",
    "    result = cursor.fetchall()\n",
    "    \n",
    "    #Imprimir bonito\n",
    "    for row in result:\n",
    "        clave = row[0]\n",
    "        nombre = row[1]\n",
    "        print(\">>Clave = {0} \\n>>Nombre = {1}\\n\".format(clave,nombre))        \n",
    "except:\n",
    "    print('No se pudo mostrar')"
   ]
  },
  {
   "cell_type": "code",
   "execution_count": null,
   "metadata": {},
   "outputs": [],
   "source": []
  }
 ],
 "metadata": {
  "kernelspec": {
   "display_name": "Python 3",
   "language": "python",
   "name": "python3"
  },
  "language_info": {
   "codemirror_mode": {
    "name": "ipython",
    "version": 3
   },
   "file_extension": ".py",
   "mimetype": "text/x-python",
   "name": "python",
   "nbconvert_exporter": "python",
   "pygments_lexer": "ipython3",
   "version": "3.7.3"
  }
 },
 "nbformat": 4,
 "nbformat_minor": 2
}
