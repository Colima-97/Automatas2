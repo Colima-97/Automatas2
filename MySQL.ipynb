{
 "cells": [
  {
   "cell_type": "markdown",
   "metadata": {},
   "source": [
    "<H2>Conectar Python con DB MySQL<H2>"
   ]
  },
  {
   "cell_type": "code",
   "execution_count": 3,
   "metadata": {},
   "outputs": [
    {
     "name": "stdout",
     "output_type": "stream",
     "text": [
      "Conexión exitosa!\n",
      "<pymysql.connections.Connection object at 0x0000016A43FFCE10>\n"
     ]
    }
   ],
   "source": [
    "#Primer paso es abrir la conexión a la base de datos\n",
    "\n",
    "import pymysql\n",
    "\n",
    "try:\n",
    "    #Cadena de conexión\n",
    "    db = pymysql.connect(\"localhost\",\"root\",\"\",\"mundo_peludo\")\n",
    "    print('Conexión exitosa!')      \n",
    "except:\n",
    "    print('La conexión falló!')\n",
    "finally:\n",
    "    print(db)\n",
    "\n",
    "try:    \n",
    "    #Crear un objeto cursor\n",
    "    cursor = db.cursor()\n",
    "\n",
    "    #Ahora podemos usar instrucciones SQL\n",
    "    #definir registro\n",
    "    cadsqlinsert = \"insert into keyword values(6,'end');\"\n",
    "    cursor.execute(cadsqlinsert)\n",
    "    \n",
    "    #Con commit hace operación atómica\n",
    "    db.commit()\n",
    "    \n",
    "    print('Dato insertado exitosamente!')\n",
    "except:\n",
    "    print('No se pudo insertar los datos')\n",
    "    db.rollback()\n",
    "    "
   ]
  },
  {
   "cell_type": "code",
   "execution_count": 7,
   "metadata": {},
   "outputs": [
    {
     "name": "stdout",
     "output_type": "stream",
     "text": [
      "Conexión exitosa!\n",
      "Objeto de db es:  <pymysql.connections.Connection object at 0x0000016A440213C8>\n",
      ">>Clave = 4 \n",
      ">>Nombre = switch\n"
     ]
    }
   ],
   "source": [
    "#Rutina para consultar registros en a tabla keyword\n",
    "\n",
    "import pymysql\n",
    "\n",
    "#Hacer conexión\n",
    "try:\n",
    "    #Cadena de conexión\n",
    "    db = pymysql.connect(\"localhost\",\"root\",\"\",\"mundo_peludo\")\n",
    "    print('Conexión exitosa!')      \n",
    "except:\n",
    "    print('La conexión falló!')\n",
    "finally:\n",
    "    print('Objeto de db es: ', db)\n",
    "    \n",
    "\n",
    "    \n",
    "#Buscar\n",
    "try:\n",
    "    #Crear un objeto cursor\n",
    "    cursor = db.cursor()\n",
    "    \n",
    "    cadsqlbuscar = \"select * from keyword where clave = 4;\"\n",
    "    cursor.execute(cadsqlbuscar)\n",
    "    result = cursor.fetchall()\n",
    "    \n",
    "    #Imprimir bonito\n",
    "    for row in result:\n",
    "        clave = row[0]\n",
    "        nombre = row[1]\n",
    "        print(\">>Clave = {0} \\n>>Nombre = {1}\".format(clave,nombre))    \n",
    "except:\n",
    "    print('No se encontró la clave!')"
   ]
  },
  {
   "cell_type": "code",
   "execution_count": 8,
   "metadata": {},
   "outputs": [
    {
     "name": "stdout",
     "output_type": "stream",
     "text": [
      "Conexión exitosa!\n",
      "Objeto de db es:  <pymysql.connections.Connection object at 0x0000016A440212E8>\n",
      "Elemento borrado!\n"
     ]
    }
   ],
   "source": [
    "#Borrar\n",
    "\n",
    "import pymysql\n",
    "\n",
    "#Hacer conexión\n",
    "try:\n",
    "    #Cadena de conexión\n",
    "    db = pymysql.connect(\"localhost\",\"root\",\"\",\"mundo_peludo\")\n",
    "    print('Conexión exitosa!')      \n",
    "except:\n",
    "    print('La conexión falló!')\n",
    "finally:\n",
    "    print('Objeto de db es: ', db)\n",
    "    \n",
    "try:\n",
    "    #Crear un objeto cursor\n",
    "    cursor = db.cursor()\n",
    "    \n",
    "    cadsqlborrar = \"delete from keyword where clave = 3;\"\n",
    "    cursor.execute(cadsqlborrar)\n",
    "    db.commit()\n",
    "    print('Elemento borrado!')\n",
    "    \n",
    "    #Buscar\n",
    "    cadsqlbuscarall = \"Select * From keyword;\"\n",
    "    cursor.execute(cadsqlbuscarall)\n",
    "    result = cursor.fetchall()\n",
    "    \n",
    "    #Imprimir bonito\n",
    "    for row in result:\n",
    "        clave = row[0]\n",
    "        nombre = row[1]\n",
    "        print(\">>Clave = {0} \\n>>Nombre = {1}\\n\".format(clave,nombre))        \n",
    "except:\n",
    "    print('No se pudo borrar')\n",
    "    "
   ]
  },
  {
   "cell_type": "code",
   "execution_count": 9,
   "metadata": {},
   "outputs": [
    {
     "name": "stdout",
     "output_type": "stream",
     "text": [
      "Conexión exitosa!\n",
      "Objeto de db es:  <pymysql.connections.Connection object at 0x0000016A440214A8>\n",
      "Registro cambiado exitosamente!\n"
     ]
    }
   ],
   "source": [
    "#Actualizar un elemento\n",
    "import pymysql\n",
    "\n",
    "#Hacer conexión\n",
    "try:\n",
    "    #Cadena de conexión\n",
    "    db = pymysql.connect(\"localhost\",\"root\",\"\",\"mundo_peludo\")\n",
    "    print('Conexión exitosa!')      \n",
    "except:\n",
    "    print('La conexión falló!')\n",
    "finally:\n",
    "    print('Objeto de db es: ', db)\n",
    "    \n",
    "try:\n",
    "    #Crear un objeto cursor\n",
    "    cursor = db.cursor()\n",
    "    \n",
    "    #Cambiar\n",
    "    cadsqlcambio = \"Update keyword set `nombre` = 'while' Where `clave` = 2;\"\n",
    "    cursor.execute(cadsqlcambio)\n",
    "    db.commit()\n",
    "    print('Registro cambiado exitosamente!')\n",
    "except:\n",
    "    print('No se pudo cambiar el registro')\n"
   ]
  },
  {
   "cell_type": "code",
   "execution_count": 11,
   "metadata": {},
   "outputs": [
    {
     "name": "stdout",
     "output_type": "stream",
     "text": [
      "Conexión exitosa!\n",
      "Objeto de db es:  <pymysql.connections.Connection object at 0x0000016A43F03908>\n",
      ">>Clave = 1 \n",
      ">>Nombre = printf\n",
      "\n",
      ">>Clave = 2 \n",
      ">>Nombre = while\n",
      "\n",
      ">>Clave = 4 \n",
      ">>Nombre = switch\n",
      "\n",
      ">>Clave = 5 \n",
      ">>Nombre = if\n",
      "\n",
      ">>Clave = 6 \n",
      ">>Nombre = end\n",
      "\n"
     ]
    }
   ],
   "source": [
    "#Reporte, imprimir todos los datos de la tabla\n",
    "\n",
    "import pymysql\n",
    "\n",
    "#Hacer conexión\n",
    "try:\n",
    "    #Cadena de conexión\n",
    "    db = pymysql.connect(\"localhost\",\"root\",\"\",\"mundo_peludo\")\n",
    "    print('Conexión exitosa!')      \n",
    "except:\n",
    "    print('La conexión falló!')\n",
    "finally:\n",
    "    print('Objeto de db es: ', db)\n",
    "    \n",
    "try:\n",
    "    #Crear un objeto cursor\n",
    "    cursor = db.cursor()\n",
    "    \n",
    "    #Buscar\n",
    "    cadsqlbuscarall = \"Select * From keyword;\"\n",
    "    cursor.execute(cadsqlbuscarall)\n",
    "    result = cursor.fetchall()\n",
    "    \n",
    "    #Imprimir bonito\n",
    "    for row in result:\n",
    "        clave = row[0]\n",
    "        nombre = row[1]\n",
    "        print(\">>Clave = {0} \\n>>Nombre = {1}\\n\".format(clave,nombre))        \n",
    "except:\n",
    "    print('No se pudo mostrar')"
   ]
  },
  {
   "cell_type": "code",
   "execution_count": null,
   "metadata": {},
   "outputs": [],
   "source": []
  }
 ],
 "metadata": {
  "kernelspec": {
   "display_name": "Python 3",
   "language": "python",
   "name": "python3"
  },
  "language_info": {
   "codemirror_mode": {
    "name": "ipython",
    "version": 3
   },
   "file_extension": ".py",
   "mimetype": "text/x-python",
   "name": "python",
   "nbconvert_exporter": "python",
   "pygments_lexer": "ipython3",
   "version": "3.7.3"
  }
 },
 "nbformat": 4,
 "nbformat_minor": 2
}
